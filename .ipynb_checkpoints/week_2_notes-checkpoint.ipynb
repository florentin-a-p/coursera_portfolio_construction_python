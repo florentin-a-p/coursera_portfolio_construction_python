{
 "cells": [
  {
   "cell_type": "markdown",
   "metadata": {
    "colab_type": "text",
    "id": "view-in-github"
   },
   "source": [
    "<a href=\"https://colab.research.google.com/github/florentin-a-p/coursera_portfolio_construction_python/blob/main/week_2.ipynb\" target=\"_parent\"><img src=\"https://colab.research.google.com/assets/colab-badge.svg\" alt=\"Open In Colab\"/></a>"
   ]
  },
  {
   "cell_type": "markdown",
   "metadata": {
    "id": "04Jl79WLr4Di"
   },
   "source": [
    "In actual stock returns, you get much higher returns compared to the gaussian assumption. This means that the gaussian distribution underestimates the magnitude of the extremity of stock returns distribution. This is because gaussian distribution has very thin tails, which means probability of getting very high or very low values are very small\n",
    "\n",
    "<div>\n",
    "    <img src=\"images/skewness_kurtosis.png\" align=\"center\" width=\"500\">\n",
    "</div>\n",
    "\n",
    "we should move beyond mean and variance and look at higher order moments instead (skewness and kurtosis)\n",
    "\n",
    "**skewness** = measures asymmetry of the distribution. Negative skewness means probability of getting value lower than mean is higher than probability of getting value higher than mean <br/>\n",
    "\n",
    "$$S(R) = \\frac{E[(R-E(R))^3]}{[\\text{Var}(R)]^{3/2}}$$\n",
    "\n",
    "$E[(R-E(R))^3]$ is 3rd center moment of distribution\n",
    "\n",
    "**kurtosis** = measures thickness of distribution tail. <br/>\n",
    "\n",
    "$$K(R)=\\frac{E[(R-E(R))^4]}{[\\text{Var}(R)]^2}$$\n",
    "\n",
    "$E[(R-E(R))^3]$ is 4th center moment of distribution. Any distribution that has $K>3$ is called fat tail distribution\n",
    "\n",
    "\n",
    "**excess kurtosis** = $K-3$\n",
    "\n",
    "**Jarque Bera test for normality**\n",
    "$$JB=\\frac{n}{6}\\bigg(S^2+\\frac{(K-3)^2}{4}\\bigg)$$\n"
   ]
  },
  {
   "cell_type": "code",
   "execution_count": null,
   "metadata": {
    "id": "Q6Fl0EXztAR3"
   },
   "outputs": [],
   "source": [
    "\n",
    "\n"
   ]
  },
  {
   "cell_type": "code",
   "execution_count": null,
   "metadata": {
    "id": "aPgNkVcntAHx"
   },
   "outputs": [],
   "source": []
  }
 ],
 "metadata": {
  "colab": {
   "authorship_tag": "ABX9TyMgULhIlRC0N2CNJJWUNPyB",
   "collapsed_sections": [],
   "include_colab_link": true,
   "name": "week_2.ipynb",
   "provenance": []
  },
  "kernelspec": {
   "display_name": "Python 3",
   "language": "python",
   "name": "python3"
  },
  "language_info": {
   "codemirror_mode": {
    "name": "ipython",
    "version": 3
   },
   "file_extension": ".py",
   "mimetype": "text/x-python",
   "name": "python",
   "nbconvert_exporter": "python",
   "pygments_lexer": "ipython3",
   "version": "3.7.9"
  }
 },
 "nbformat": 4,
 "nbformat_minor": 1
}
