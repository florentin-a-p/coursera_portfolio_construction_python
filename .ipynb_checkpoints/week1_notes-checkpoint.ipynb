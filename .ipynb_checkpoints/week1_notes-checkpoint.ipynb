{
 "cells": [
  {
   "cell_type": "code",
   "execution_count": 8,
   "metadata": {},
   "outputs": [
    {
     "data": {
      "text/latex": [
       "\\begin{align}\n",
       "\\dfrac{P_{t+1}}{P_{t}}\n",
       "\\end{align}\n"
      ],
      "text/plain": [
       "<IPython.core.display.Latex object>"
      ]
     },
     "metadata": {},
     "output_type": "display_data"
    }
   ],
   "source": [
    "%%latex\n",
    "\\begin{align}\n",
    "\\dfrac{P_{t+1}}{P_{t}}\n",
    "\\end{align}"
   ]
  },
  {
   "cell_type": "markdown",
   "metadata": {},
   "source": [
    "2 ways of thinking about return or **price return**:\n",
    "%%latex\n",
    "$$\\dfrac{P_{t+1}-P_{t}}{P_{t}}$$\n",
    "or the 1+r format\n",
    "$$\\dfrac{P_{t+1}}{P_{t}}$$\n",
    "**Total return** is when you add dividend to the return or price return\n",
    "$$R_{t,t+1}=\\dfrac{P_{t+1}-P_{t}}{P_{t}}+\\dfrac{D_{t,t+1}}{P_{t}}=\\dfrac{P_{t+1}-P_{t}+D_{t,t+1}}{P_{t}}=\\dfrac{P_{t+1}+D_{t,t+1}}{P_{t}}-1$$\n",
    "Total return - Price return = **contribution of dividends**\n",
    "$$\\dfrac{P_{t+1}+D_{t,t+1}-P_{t}}{P_{t}}-\\dfrac{P_{t+1}-P_{t}}{P_{t}} = \\dfrac{P_{t+1}+D_{t,t+1}-P_{t}-P_{t+1}+P_{t}}{P_{t}} = \\dfrac{D_{t,t+1}}{P_{t}}$$"
   ]
  },
  {
   "cell_type": "code",
   "execution_count": null,
   "metadata": {},
   "outputs": [],
   "source": []
  },
  {
   "cell_type": "code",
   "execution_count": null,
   "metadata": {},
   "outputs": [],
   "source": []
  },
  {
   "cell_type": "code",
   "execution_count": null,
   "metadata": {},
   "outputs": [],
   "source": []
  },
  {
   "cell_type": "code",
   "execution_count": null,
   "metadata": {},
   "outputs": [],
   "source": []
  },
  {
   "cell_type": "code",
   "execution_count": null,
   "metadata": {},
   "outputs": [],
   "source": []
  },
  {
   "cell_type": "code",
   "execution_count": null,
   "metadata": {},
   "outputs": [],
   "source": []
  },
  {
   "cell_type": "code",
   "execution_count": null,
   "metadata": {},
   "outputs": [],
   "source": []
  }
 ],
 "metadata": {
  "kernelspec": {
   "display_name": "Python 3",
   "language": "python",
   "name": "python3"
  },
  "language_info": {
   "codemirror_mode": {
    "name": "ipython",
    "version": 3
   },
   "file_extension": ".py",
   "mimetype": "text/x-python",
   "name": "python",
   "nbconvert_exporter": "python",
   "pygments_lexer": "ipython3",
   "version": "3.7.9"
  }
 },
 "nbformat": 4,
 "nbformat_minor": 4
}
